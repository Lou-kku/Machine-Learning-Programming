{
 "cells": [
  {
   "cell_type": "code",
   "execution_count": 87,
   "id": "fa2dbf09-56af-4b85-ab1e-d458e7816889",
   "metadata": {},
   "outputs": [],
   "source": [
    "import pandas as pd\n",
    "import numpy as np\n",
    "import tensorflow as tf\n",
    "from tensorflow import keras\n",
    "from sklearn.model_selection import train_test_split\n",
    "from sklearn.preprocessing import LabelEncoder\n",
    "from collections import Counter\n",
    "import matplotlib.pyplot as plt\n",
    "import os"
   ]
  },
  {
   "cell_type": "code",
   "execution_count": 97,
   "id": "a75f55b9-9a11-42e6-a11a-dfad90847a6a",
   "metadata": {},
   "outputs": [
    {
     "name": "stdout",
     "output_type": "stream",
     "text": [
      "데이터 전처리 시작...\n",
      "데이터 전처리 완료. 데이터 정보:\n",
      "<class 'pandas.core.frame.DataFrame'>\n",
      "Index: 1086465 entries, 0 to 1098198\n",
      "Data columns (total 6 columns):\n",
      " #   Column     Non-Null Count    Dtype  \n",
      "---  ------     --------------    -----  \n",
      " 0   user       1086465 non-null  int64  \n",
      " 1   activity   1086465 non-null  object \n",
      " 2   timestamp  1086465 non-null  float64\n",
      " 3   x-accel    1086465 non-null  float64\n",
      " 4   y-accel    1086465 non-null  float64\n",
      " 5   z-accel    1086465 non-null  float64\n",
      "dtypes: float64(4), int64(1), object(1)\n",
      "memory usage: 58.0+ MB\n",
      "\n",
      "전처리된 데이터 상위 5개 행:\n",
      "   user activity        timestamp  x-accel  y-accel  z-accel\n",
      "0    33  Jogging 49105962326000.0     -0.7     12.7      0.5\n",
      "1    33  Jogging 49106062271000.0      5.0     11.3      1.0\n",
      "2    33  Jogging 49106112167000.0      4.9     10.9     -0.1\n",
      "3    33  Jogging 49106222305000.0     -0.6     18.5      3.0\n",
      "4    33  Jogging 49106332290000.0     -1.2     12.1      7.2\n"
     ]
    }
   ],
   "source": [
    "#파일 경로 설정\n",
    "file_path = 'WISDM_ar_v1.1_raw.txt'\n",
    "\n",
    "# --- 1. 파일 불러오기 및 데이터 전처리 ---\n",
    "print(\"데이터 전처리 시작...\")\n",
    "try:\n",
    "    # 파일을 한 줄씩 읽고 파싱하여 ParserError를 방지\n",
    "    parsed_data = []\n",
    "    with open(file_path, 'r') as file:\n",
    "        for line in file:\n",
    "            line = line.strip().replace(';', '')\n",
    "            if not line:\n",
    "                continue\n",
    "            parts = line.split(',')\n",
    "            \n",
    "            # 예상치 못한 필드가 있는 경우 (예: \"Jogging,49105962326000\")를 처리\n",
    "            if len(parts) > 6:\n",
    "                activity = parts[1] + ',' + parts[2]\n",
    "                rest = parts[3:]\n",
    "                parts = [parts[0], activity] + rest\n",
    "\n",
    "            if len(parts) == 6:\n",
    "                parsed_data.append(parts)\n",
    "\n",
    "    df = pd.DataFrame(parsed_data, columns=['user', 'activity', 'timestamp', 'x-accel', 'y-accel', 'z-accel'])\n",
    "\n",
    "    # 데이터 타입 변환\n",
    "    df['user'] = pd.to_numeric(df['user'], errors='coerce')\n",
    "    df['timestamp'] = pd.to_numeric(df['timestamp'], errors='coerce')\n",
    "    df['x-accel'] = pd.to_numeric(df['x-accel'], errors='coerce')\n",
    "    df['y-accel'] = pd.to_numeric(df['y-accel'], errors='coerce')\n",
    "    df['z-accel'] = pd.to_numeric(df['z-accel'], errors='coerce')\n",
    "    \n",
    "    # 불필요한 공백 제거\n",
    "    df['activity'] = df['activity'].str.strip()\n",
    "\n",
    "    # NaN 값이 있는 행 제거\n",
    "    df.dropna(inplace=True)\n",
    "\n",
    "    print(\"데이터 전처리 완료. 데이터 정보:\")\n",
    "    df.info()\n",
    "    print(\"\\n전처리된 데이터 상위 5개 행:\")\n",
    "    print(df.head())\n",
    "\n",
    "except FileNotFoundError:\n",
    "    print(f\"오류: {file_path} 파일을 찾을 수 없습니다. 파일이 현재 스크립트와 동일한 디렉터리에 있는지 확인해주세요.\")\n",
    "    exit()\n"
   ]
  },
  {
   "cell_type": "code",
   "execution_count": 101,
   "id": "4db90994-c772-4cc7-ba6a-0bdd93a52ed3",
   "metadata": {},
   "outputs": [
    {
     "data": {
      "text/html": [
       "<div>\n",
       "<style scoped>\n",
       "    .dataframe tbody tr th:only-of-type {\n",
       "        vertical-align: middle;\n",
       "    }\n",
       "\n",
       "    .dataframe tbody tr th {\n",
       "        vertical-align: top;\n",
       "    }\n",
       "\n",
       "    .dataframe thead th {\n",
       "        text-align: right;\n",
       "    }\n",
       "</style>\n",
       "<table border=\"1\" class=\"dataframe\">\n",
       "  <thead>\n",
       "    <tr style=\"text-align: right;\">\n",
       "      <th></th>\n",
       "      <th>user</th>\n",
       "      <th>activity</th>\n",
       "      <th>timestamp</th>\n",
       "      <th>x-accel</th>\n",
       "      <th>y-accel</th>\n",
       "      <th>z-accel</th>\n",
       "    </tr>\n",
       "  </thead>\n",
       "  <tbody>\n",
       "    <tr>\n",
       "      <th>0</th>\n",
       "      <td>33</td>\n",
       "      <td>Jogging</td>\n",
       "      <td>49105962326000.0</td>\n",
       "      <td>-0.7</td>\n",
       "      <td>12.7</td>\n",
       "      <td>0.5</td>\n",
       "    </tr>\n",
       "    <tr>\n",
       "      <th>1</th>\n",
       "      <td>33</td>\n",
       "      <td>Jogging</td>\n",
       "      <td>49106062271000.0</td>\n",
       "      <td>5.0</td>\n",
       "      <td>11.3</td>\n",
       "      <td>1.0</td>\n",
       "    </tr>\n",
       "    <tr>\n",
       "      <th>2</th>\n",
       "      <td>33</td>\n",
       "      <td>Jogging</td>\n",
       "      <td>49106112167000.0</td>\n",
       "      <td>4.9</td>\n",
       "      <td>10.9</td>\n",
       "      <td>-0.1</td>\n",
       "    </tr>\n",
       "    <tr>\n",
       "      <th>3</th>\n",
       "      <td>33</td>\n",
       "      <td>Jogging</td>\n",
       "      <td>49106222305000.0</td>\n",
       "      <td>-0.6</td>\n",
       "      <td>18.5</td>\n",
       "      <td>3.0</td>\n",
       "    </tr>\n",
       "    <tr>\n",
       "      <th>4</th>\n",
       "      <td>33</td>\n",
       "      <td>Jogging</td>\n",
       "      <td>49106332290000.0</td>\n",
       "      <td>-1.2</td>\n",
       "      <td>12.1</td>\n",
       "      <td>7.2</td>\n",
       "    </tr>\n",
       "    <tr>\n",
       "      <th>...</th>\n",
       "      <td>...</td>\n",
       "      <td>...</td>\n",
       "      <td>...</td>\n",
       "      <td>...</td>\n",
       "      <td>...</td>\n",
       "      <td>...</td>\n",
       "    </tr>\n",
       "    <tr>\n",
       "      <th>1098194</th>\n",
       "      <td>19</td>\n",
       "      <td>Sitting</td>\n",
       "      <td>131623331483000.0</td>\n",
       "      <td>9.0</td>\n",
       "      <td>-1.6</td>\n",
       "      <td>1.7</td>\n",
       "    </tr>\n",
       "    <tr>\n",
       "      <th>1098195</th>\n",
       "      <td>19</td>\n",
       "      <td>Sitting</td>\n",
       "      <td>131623371431000.0</td>\n",
       "      <td>9.0</td>\n",
       "      <td>-1.5</td>\n",
       "      <td>1.7</td>\n",
       "    </tr>\n",
       "    <tr>\n",
       "      <th>1098196</th>\n",
       "      <td>19</td>\n",
       "      <td>Sitting</td>\n",
       "      <td>131623411592000.0</td>\n",
       "      <td>9.1</td>\n",
       "      <td>-1.4</td>\n",
       "      <td>1.7</td>\n",
       "    </tr>\n",
       "    <tr>\n",
       "      <th>1098197</th>\n",
       "      <td>19</td>\n",
       "      <td>Sitting</td>\n",
       "      <td>131623491487000.0</td>\n",
       "      <td>9.0</td>\n",
       "      <td>-1.5</td>\n",
       "      <td>1.7</td>\n",
       "    </tr>\n",
       "    <tr>\n",
       "      <th>1098198</th>\n",
       "      <td>19</td>\n",
       "      <td>Sitting</td>\n",
       "      <td>131623531465000.0</td>\n",
       "      <td>8.9</td>\n",
       "      <td>-1.3</td>\n",
       "      <td>1.6</td>\n",
       "    </tr>\n",
       "  </tbody>\n",
       "</table>\n",
       "<p>1086465 rows × 6 columns</p>\n",
       "</div>"
      ],
      "text/plain": [
       "         user activity         timestamp  x-accel  y-accel  z-accel\n",
       "0          33  Jogging  49105962326000.0     -0.7     12.7      0.5\n",
       "1          33  Jogging  49106062271000.0      5.0     11.3      1.0\n",
       "2          33  Jogging  49106112167000.0      4.9     10.9     -0.1\n",
       "3          33  Jogging  49106222305000.0     -0.6     18.5      3.0\n",
       "4          33  Jogging  49106332290000.0     -1.2     12.1      7.2\n",
       "...       ...      ...               ...      ...      ...      ...\n",
       "1098194    19  Sitting 131623331483000.0      9.0     -1.6      1.7\n",
       "1098195    19  Sitting 131623371431000.0      9.0     -1.5      1.7\n",
       "1098196    19  Sitting 131623411592000.0      9.1     -1.4      1.7\n",
       "1098197    19  Sitting 131623491487000.0      9.0     -1.5      1.7\n",
       "1098198    19  Sitting 131623531465000.0      8.9     -1.3      1.6\n",
       "\n",
       "[1086465 rows x 6 columns]"
      ]
     },
     "execution_count": 101,
     "metadata": {},
     "output_type": "execute_result"
    }
   ],
   "source": [
    "df"
   ]
  },
  {
   "cell_type": "code",
   "execution_count": 103,
   "id": "af3ebc52-0c01-4525-ae93-7b6f5e5521f6",
   "metadata": {},
   "outputs": [
    {
     "name": "stdout",
     "output_type": "stream",
     "text": [
      "\n",
      "인코딩된 활동 라벨:\n",
      "['Downstairs' 'Jogging' 'Sitting' 'Standing' 'Upstairs' 'Walking']\n"
     ]
    }
   ],
   "source": [
    "# --- 2. 특징과 라벨 ---\n",
    "label_encoder = LabelEncoder()\n",
    "df['activity_encoded'] = label_encoder.fit_transform(df['activity'])\n",
    "FEATURES = ['x-accel', 'y-accel', 'z-accel']\n",
    "LABELS = ['activity_encoded']\n",
    "print(\"\\n인코딩된 활동 라벨:\")\n",
    "print(label_encoder.classes_)"
   ]
  },
  {
   "cell_type": "code",
   "execution_count": 105,
   "id": "007b4e5d-38e8-413b-bae2-c12e424eff69",
   "metadata": {},
   "outputs": [
    {
     "name": "stdout",
     "output_type": "stream",
     "text": [
      "\n",
      "슬라이딩 윈도우 적용 완료. 특징(X) 및 라벨(y) 형태:\n",
      "X.shape: (43457, 50, 3)\n",
      "y.shape: (43457,)\n"
     ]
    }
   ],
   "source": [
    "\n",
    "# --- 3. 슬라이딩 윈도우 함수 ---\n",
    "def create_sliding_windows(data, window_size, step_size):\n",
    "    X, y = [], []\n",
    "    num_data_points = data.shape[0]\n",
    "\n",
    "    for i in range(0, num_data_points - window_size, step_size):\n",
    "        window = data.iloc[i:i + window_size]\n",
    "        features = window[FEATURES].values\n",
    "        labels = window[LABELS].values\n",
    "        most_common_label = Counter(labels.flatten()).most_common(1)[0][0]\n",
    "        X.append(features)\n",
    "        y.append(most_common_label)\n",
    "        \n",
    "    return np.array(X), np.array(y)\n",
    "\n",
    "WINDOW_SIZE = 50\n",
    "STEP_SIZE = 25\n",
    "X, y = create_sliding_windows(df, WINDOW_SIZE, STEP_SIZE)\n",
    "print(\"\\n슬라이딩 윈도우 적용 완료. 특징(X) 및 라벨(y) 형태:\")\n",
    "print(f\"X.shape: {X.shape}\")\n",
    "print(f\"y.shape: {y.shape}\")\n"
   ]
  },
  {
   "cell_type": "code",
   "execution_count": 106,
   "id": "cee05555-28f7-4db7-9efc-785fc424e20e",
   "metadata": {},
   "outputs": [
    {
     "name": "stdout",
     "output_type": "stream",
     "text": [
      "\n",
      "학습/테스트 데이터 분리 완료.\n",
      "X_train.shape: (34765, 50, 3), y_train.shape: (34765,)\n",
      "X_test.shape: (8692, 50, 3), y_test.shape: (8692,)\n"
     ]
    }
   ],
   "source": [
    "# --- 4. 학습/테스트 데이터 분리 ---\n",
    "X_train, X_test, y_train, y_test = train_test_split(X, y, test_size=0.2, random_state=42, stratify=y)\n",
    "print(\"\\n학습/테스트 데이터 분리 완료.\")\n",
    "print(f\"X_train.shape: {X_train.shape}, y_train.shape: {y_train.shape}\")\n",
    "print(f\"X_test.shape: {X_test.shape}, y_test.shape: {y_test.shape}\")\n"
   ]
  },
  {
   "cell_type": "code",
   "execution_count": 111,
   "id": "5b1908aa-44d6-4510-afca-75921b589d99",
   "metadata": {},
   "outputs": [
    {
     "name": "stdout",
     "output_type": "stream",
     "text": [
      "\n",
      "모델 요약:\n"
     ]
    },
    {
     "name": "stderr",
     "output_type": "stream",
     "text": [
      "C:\\Users\\Lenovo\\anaconda3\\Lib\\site-packages\\keras\\src\\layers\\rnn\\rnn.py:200: UserWarning: Do not pass an `input_shape`/`input_dim` argument to a layer. When using Sequential models, prefer using an `Input(shape)` object as the first layer in the model instead.\n",
      "  super().__init__(**kwargs)\n"
     ]
    },
    {
     "data": {
      "text/html": [
       "<pre style=\"white-space:pre;overflow-x:auto;line-height:normal;font-family:Menlo,'DejaVu Sans Mono',consolas,'Courier New',monospace\"><span style=\"font-weight: bold\">Model: \"sequential_3\"</span>\n",
       "</pre>\n"
      ],
      "text/plain": [
       "\u001b[1mModel: \"sequential_3\"\u001b[0m\n"
      ]
     },
     "metadata": {},
     "output_type": "display_data"
    },
    {
     "data": {
      "text/html": [
       "<pre style=\"white-space:pre;overflow-x:auto;line-height:normal;font-family:Menlo,'DejaVu Sans Mono',consolas,'Courier New',monospace\">┏━━━━━━━━━━━━━━━━━━━━━━━━━━━━━━━━━━━━━━┳━━━━━━━━━━━━━━━━━━━━━━━━━━━━━┳━━━━━━━━━━━━━━━━━┓\n",
       "┃<span style=\"font-weight: bold\"> Layer (type)                         </span>┃<span style=\"font-weight: bold\"> Output Shape                </span>┃<span style=\"font-weight: bold\">         Param # </span>┃\n",
       "┡━━━━━━━━━━━━━━━━━━━━━━━━━━━━━━━━━━━━━━╇━━━━━━━━━━━━━━━━━━━━━━━━━━━━━╇━━━━━━━━━━━━━━━━━┩\n",
       "│ lstm_4 (<span style=\"color: #0087ff; text-decoration-color: #0087ff\">LSTM</span>)                        │ (<span style=\"color: #00d7ff; text-decoration-color: #00d7ff\">None</span>, <span style=\"color: #00af00; text-decoration-color: #00af00\">50</span>, <span style=\"color: #00af00; text-decoration-color: #00af00\">128</span>)             │          <span style=\"color: #00af00; text-decoration-color: #00af00\">67,584</span> │\n",
       "├──────────────────────────────────────┼─────────────────────────────┼─────────────────┤\n",
       "│ dropout_4 (<span style=\"color: #0087ff; text-decoration-color: #0087ff\">Dropout</span>)                  │ (<span style=\"color: #00d7ff; text-decoration-color: #00d7ff\">None</span>, <span style=\"color: #00af00; text-decoration-color: #00af00\">50</span>, <span style=\"color: #00af00; text-decoration-color: #00af00\">128</span>)             │               <span style=\"color: #00af00; text-decoration-color: #00af00\">0</span> │\n",
       "├──────────────────────────────────────┼─────────────────────────────┼─────────────────┤\n",
       "│ lstm_5 (<span style=\"color: #0087ff; text-decoration-color: #0087ff\">LSTM</span>)                        │ (<span style=\"color: #00d7ff; text-decoration-color: #00d7ff\">None</span>, <span style=\"color: #00af00; text-decoration-color: #00af00\">64</span>)                  │          <span style=\"color: #00af00; text-decoration-color: #00af00\">49,408</span> │\n",
       "├──────────────────────────────────────┼─────────────────────────────┼─────────────────┤\n",
       "│ dropout_5 (<span style=\"color: #0087ff; text-decoration-color: #0087ff\">Dropout</span>)                  │ (<span style=\"color: #00d7ff; text-decoration-color: #00d7ff\">None</span>, <span style=\"color: #00af00; text-decoration-color: #00af00\">64</span>)                  │               <span style=\"color: #00af00; text-decoration-color: #00af00\">0</span> │\n",
       "├──────────────────────────────────────┼─────────────────────────────┼─────────────────┤\n",
       "│ dense_5 (<span style=\"color: #0087ff; text-decoration-color: #0087ff\">Dense</span>)                      │ (<span style=\"color: #00d7ff; text-decoration-color: #00d7ff\">None</span>, <span style=\"color: #00af00; text-decoration-color: #00af00\">6</span>)                   │             <span style=\"color: #00af00; text-decoration-color: #00af00\">390</span> │\n",
       "└──────────────────────────────────────┴─────────────────────────────┴─────────────────┘\n",
       "</pre>\n"
      ],
      "text/plain": [
       "┏━━━━━━━━━━━━━━━━━━━━━━━━━━━━━━━━━━━━━━┳━━━━━━━━━━━━━━━━━━━━━━━━━━━━━┳━━━━━━━━━━━━━━━━━┓\n",
       "┃\u001b[1m \u001b[0m\u001b[1mLayer (type)                        \u001b[0m\u001b[1m \u001b[0m┃\u001b[1m \u001b[0m\u001b[1mOutput Shape               \u001b[0m\u001b[1m \u001b[0m┃\u001b[1m \u001b[0m\u001b[1m        Param #\u001b[0m\u001b[1m \u001b[0m┃\n",
       "┡━━━━━━━━━━━━━━━━━━━━━━━━━━━━━━━━━━━━━━╇━━━━━━━━━━━━━━━━━━━━━━━━━━━━━╇━━━━━━━━━━━━━━━━━┩\n",
       "│ lstm_4 (\u001b[38;5;33mLSTM\u001b[0m)                        │ (\u001b[38;5;45mNone\u001b[0m, \u001b[38;5;34m50\u001b[0m, \u001b[38;5;34m128\u001b[0m)             │          \u001b[38;5;34m67,584\u001b[0m │\n",
       "├──────────────────────────────────────┼─────────────────────────────┼─────────────────┤\n",
       "│ dropout_4 (\u001b[38;5;33mDropout\u001b[0m)                  │ (\u001b[38;5;45mNone\u001b[0m, \u001b[38;5;34m50\u001b[0m, \u001b[38;5;34m128\u001b[0m)             │               \u001b[38;5;34m0\u001b[0m │\n",
       "├──────────────────────────────────────┼─────────────────────────────┼─────────────────┤\n",
       "│ lstm_5 (\u001b[38;5;33mLSTM\u001b[0m)                        │ (\u001b[38;5;45mNone\u001b[0m, \u001b[38;5;34m64\u001b[0m)                  │          \u001b[38;5;34m49,408\u001b[0m │\n",
       "├──────────────────────────────────────┼─────────────────────────────┼─────────────────┤\n",
       "│ dropout_5 (\u001b[38;5;33mDropout\u001b[0m)                  │ (\u001b[38;5;45mNone\u001b[0m, \u001b[38;5;34m64\u001b[0m)                  │               \u001b[38;5;34m0\u001b[0m │\n",
       "├──────────────────────────────────────┼─────────────────────────────┼─────────────────┤\n",
       "│ dense_5 (\u001b[38;5;33mDense\u001b[0m)                      │ (\u001b[38;5;45mNone\u001b[0m, \u001b[38;5;34m6\u001b[0m)                   │             \u001b[38;5;34m390\u001b[0m │\n",
       "└──────────────────────────────────────┴─────────────────────────────┴─────────────────┘\n"
      ]
     },
     "metadata": {},
     "output_type": "display_data"
    },
    {
     "data": {
      "text/html": [
       "<pre style=\"white-space:pre;overflow-x:auto;line-height:normal;font-family:Menlo,'DejaVu Sans Mono',consolas,'Courier New',monospace\"><span style=\"font-weight: bold\"> Total params: </span><span style=\"color: #00af00; text-decoration-color: #00af00\">117,382</span> (458.52 KB)\n",
       "</pre>\n"
      ],
      "text/plain": [
       "\u001b[1m Total params: \u001b[0m\u001b[38;5;34m117,382\u001b[0m (458.52 KB)\n"
      ]
     },
     "metadata": {},
     "output_type": "display_data"
    },
    {
     "data": {
      "text/html": [
       "<pre style=\"white-space:pre;overflow-x:auto;line-height:normal;font-family:Menlo,'DejaVu Sans Mono',consolas,'Courier New',monospace\"><span style=\"font-weight: bold\"> Trainable params: </span><span style=\"color: #00af00; text-decoration-color: #00af00\">117,382</span> (458.52 KB)\n",
       "</pre>\n"
      ],
      "text/plain": [
       "\u001b[1m Trainable params: \u001b[0m\u001b[38;5;34m117,382\u001b[0m (458.52 KB)\n"
      ]
     },
     "metadata": {},
     "output_type": "display_data"
    },
    {
     "data": {
      "text/html": [
       "<pre style=\"white-space:pre;overflow-x:auto;line-height:normal;font-family:Menlo,'DejaVu Sans Mono',consolas,'Courier New',monospace\"><span style=\"font-weight: bold\"> Non-trainable params: </span><span style=\"color: #00af00; text-decoration-color: #00af00\">0</span> (0.00 B)\n",
       "</pre>\n"
      ],
      "text/plain": [
       "\u001b[1m Non-trainable params: \u001b[0m\u001b[38;5;34m0\u001b[0m (0.00 B)\n"
      ]
     },
     "metadata": {},
     "output_type": "display_data"
    }
   ],
   "source": [
    "# --- 5. 모델 구성 ---\n",
    "def build_lstm_model(input_shape, num_classes):\n",
    "    model = keras.Sequential([\n",
    "        keras.layers.LSTM(units=128, input_shape=input_shape, return_sequences=True),\n",
    "        keras.layers.Dropout(0.2),\n",
    "        keras.layers.LSTM(units=64),\n",
    "        keras.layers.Dropout(0.2),\n",
    "        keras.layers.Dense(units=num_classes, activation='softmax')\n",
    "    ])\n",
    "    model.compile(optimizer='adam',\n",
    "                  loss='sparse_categorical_crossentropy',\n",
    "                  metrics=['accuracy'])\n",
    "    return model\n",
    "\n",
    "num_classes = len(label_encoder.classes_)\n",
    "lstm_model = build_lstm_model(input_shape=(X_train.shape[1], X_train.shape[2]),\n",
    "                               num_classes=num_classes)\n",
    "print(\"\\n모델 요약:\")\n",
    "lstm_model.summary()\n"
   ]
  },
  {
   "cell_type": "code",
   "execution_count": 113,
   "id": "5bcc7ce6-1aaa-47da-936b-5a3b5bc51f7c",
   "metadata": {},
   "outputs": [
    {
     "name": "stdout",
     "output_type": "stream",
     "text": [
      "Epoch 1/20\n",
      "\u001b[1m544/544\u001b[0m \u001b[32m━━━━━━━━━━━━━━━━━━━━\u001b[0m\u001b[37m\u001b[0m \u001b[1m48s\u001b[0m 81ms/step - accuracy: 0.7366 - loss: 0.7634 - val_accuracy: 0.8698 - val_loss: 0.3665\n",
      "Epoch 2/20\n",
      "\u001b[1m544/544\u001b[0m \u001b[32m━━━━━━━━━━━━━━━━━━━━\u001b[0m\u001b[37m\u001b[0m \u001b[1m45s\u001b[0m 84ms/step - accuracy: 0.8856 - loss: 0.3242 - val_accuracy: 0.9245 - val_loss: 0.2173\n",
      "Epoch 3/20\n",
      "\u001b[1m544/544\u001b[0m \u001b[32m━━━━━━━━━━━━━━━━━━━━\u001b[0m\u001b[37m\u001b[0m \u001b[1m43s\u001b[0m 78ms/step - accuracy: 0.9368 - loss: 0.1886 - val_accuracy: 0.9600 - val_loss: 0.1208\n",
      "Epoch 4/20\n",
      "\u001b[1m544/544\u001b[0m \u001b[32m━━━━━━━━━━━━━━━━━━━━\u001b[0m\u001b[37m\u001b[0m \u001b[1m37s\u001b[0m 68ms/step - accuracy: 0.9569 - loss: 0.1307 - val_accuracy: 0.9668 - val_loss: 0.1116\n",
      "Epoch 5/20\n",
      "\u001b[1m544/544\u001b[0m \u001b[32m━━━━━━━━━━━━━━━━━━━━\u001b[0m\u001b[37m\u001b[0m \u001b[1m34s\u001b[0m 62ms/step - accuracy: 0.9665 - loss: 0.1065 - val_accuracy: 0.9719 - val_loss: 0.0917\n",
      "Epoch 6/20\n",
      "\u001b[1m544/544\u001b[0m \u001b[32m━━━━━━━━━━━━━━━━━━━━\u001b[0m\u001b[37m\u001b[0m \u001b[1m33s\u001b[0m 62ms/step - accuracy: 0.9757 - loss: 0.0799 - val_accuracy: 0.9739 - val_loss: 0.0868\n",
      "Epoch 7/20\n",
      "\u001b[1m544/544\u001b[0m \u001b[32m━━━━━━━━━━━━━━━━━━━━\u001b[0m\u001b[37m\u001b[0m \u001b[1m36s\u001b[0m 67ms/step - accuracy: 0.9807 - loss: 0.0655 - val_accuracy: 0.9697 - val_loss: 0.0966\n",
      "Epoch 8/20\n",
      "\u001b[1m544/544\u001b[0m \u001b[32m━━━━━━━━━━━━━━━━━━━━\u001b[0m\u001b[37m\u001b[0m \u001b[1m38s\u001b[0m 69ms/step - accuracy: 0.9825 - loss: 0.0603 - val_accuracy: 0.9780 - val_loss: 0.0759\n",
      "Epoch 9/20\n",
      "\u001b[1m544/544\u001b[0m \u001b[32m━━━━━━━━━━━━━━━━━━━━\u001b[0m\u001b[37m\u001b[0m \u001b[1m34s\u001b[0m 63ms/step - accuracy: 0.9825 - loss: 0.0598 - val_accuracy: 0.9769 - val_loss: 0.0758\n",
      "Epoch 10/20\n",
      "\u001b[1m544/544\u001b[0m \u001b[32m━━━━━━━━━━━━━━━━━━━━\u001b[0m\u001b[37m\u001b[0m \u001b[1m35s\u001b[0m 63ms/step - accuracy: 0.9863 - loss: 0.0445 - val_accuracy: 0.9808 - val_loss: 0.0626\n",
      "Epoch 11/20\n",
      "\u001b[1m544/544\u001b[0m \u001b[32m━━━━━━━━━━━━━━━━━━━━\u001b[0m\u001b[37m\u001b[0m \u001b[1m36s\u001b[0m 66ms/step - accuracy: 0.9867 - loss: 0.0434 - val_accuracy: 0.9786 - val_loss: 0.0723\n",
      "Epoch 12/20\n",
      "\u001b[1m544/544\u001b[0m \u001b[32m━━━━━━━━━━━━━━━━━━━━\u001b[0m\u001b[37m\u001b[0m \u001b[1m34s\u001b[0m 63ms/step - accuracy: 0.9880 - loss: 0.0391 - val_accuracy: 0.9818 - val_loss: 0.0665\n",
      "Epoch 13/20\n",
      "\u001b[1m544/544\u001b[0m \u001b[32m━━━━━━━━━━━━━━━━━━━━\u001b[0m\u001b[37m\u001b[0m \u001b[1m35s\u001b[0m 65ms/step - accuracy: 0.9890 - loss: 0.0364 - val_accuracy: 0.9815 - val_loss: 0.0652\n",
      "Epoch 14/20\n",
      "\u001b[1m544/544\u001b[0m \u001b[32m━━━━━━━━━━━━━━━━━━━━\u001b[0m\u001b[37m\u001b[0m \u001b[1m34s\u001b[0m 63ms/step - accuracy: 0.9912 - loss: 0.0298 - val_accuracy: 0.9808 - val_loss: 0.0637\n",
      "Epoch 15/20\n",
      "\u001b[1m544/544\u001b[0m \u001b[32m━━━━━━━━━━━━━━━━━━━━\u001b[0m\u001b[37m\u001b[0m \u001b[1m35s\u001b[0m 65ms/step - accuracy: 0.9923 - loss: 0.0257 - val_accuracy: 0.9834 - val_loss: 0.0604\n",
      "Epoch 16/20\n",
      "\u001b[1m544/544\u001b[0m \u001b[32m━━━━━━━━━━━━━━━━━━━━\u001b[0m\u001b[37m\u001b[0m \u001b[1m35s\u001b[0m 65ms/step - accuracy: 0.9926 - loss: 0.0248 - val_accuracy: 0.9764 - val_loss: 0.0769\n",
      "Epoch 17/20\n",
      "\u001b[1m544/544\u001b[0m \u001b[32m━━━━━━━━━━━━━━━━━━━━\u001b[0m\u001b[37m\u001b[0m \u001b[1m37s\u001b[0m 68ms/step - accuracy: 0.9900 - loss: 0.0333 - val_accuracy: 0.9818 - val_loss: 0.0660\n",
      "Epoch 18/20\n",
      "\u001b[1m544/544\u001b[0m \u001b[32m━━━━━━━━━━━━━━━━━━━━\u001b[0m\u001b[37m\u001b[0m \u001b[1m38s\u001b[0m 69ms/step - accuracy: 0.9936 - loss: 0.0202 - val_accuracy: 0.9826 - val_loss: 0.0639\n",
      "Epoch 19/20\n",
      "\u001b[1m544/544\u001b[0m \u001b[32m━━━━━━━━━━━━━━━━━━━━\u001b[0m\u001b[37m\u001b[0m \u001b[1m37s\u001b[0m 69ms/step - accuracy: 0.9953 - loss: 0.0181 - val_accuracy: 0.9823 - val_loss: 0.0678\n",
      "Epoch 20/20\n",
      "\u001b[1m544/544\u001b[0m \u001b[32m━━━━━━━━━━━━━━━━━━━━\u001b[0m\u001b[37m\u001b[0m \u001b[1m37s\u001b[0m 69ms/step - accuracy: 0.9950 - loss: 0.0177 - val_accuracy: 0.9799 - val_loss: 0.0721\n"
     ]
    }
   ],
   "source": [
    "# --- 6. 모델 학습 ---\n",
    "EPOCHS = 20\n",
    "BATCH_SIZE = 64\n",
    "history = lstm_model.fit(X_train, y_train,\n",
    "                         epochs=EPOCHS,\n",
    "                         batch_size=BATCH_SIZE,\n",
    "                         validation_data=(X_test, y_test),\n",
    "                         verbose=1)"
   ]
  },
  {
   "cell_type": "code",
   "execution_count": 115,
   "id": "1665bc9e-3d02-445f-b51a-c815d36ee4e9",
   "metadata": {},
   "outputs": [
    {
     "name": "stdout",
     "output_type": "stream",
     "text": [
      "\n",
      "--- 모델 평가 결과 ---\n",
      "테스트 손실 (Test Loss): 0.0721\n",
      "테스트 정확도 (Test Accuracy): 0.9799\n"
     ]
    },
    {
     "data": {
      "image/png": "[encoded data removed]",
      "text/plain": [
       "<Figure size 1200x600 with 2 Axes>"
      ]
     },
     "metadata": {},
     "output_type": "display_data"
    }
   ],
   "source": [
    "\n",
    "# --- 7. 평가 및 시각화 ---\n",
    "print(\"\\n--- 모델 평가 결과 ---\")\n",
    "loss, accuracy = lstm_model.evaluate(X_test, y_test, verbose=0)\n",
    "print(f\"테스트 손실 (Test Loss): {loss:.4f}\")\n",
    "print(f\"테스트 정확도 (Test Accuracy): {accuracy:.4f}\")\n",
    "\n",
    "# 정확도 및 손실 시각화\n",
    "plt.figure(figsize=(12, 6))\n",
    "\n",
    "# 정확도 그래프\n",
    "plt.subplot(1, 2, 1)\n",
    "plt.plot(history.history['accuracy'], label='Training Accuracy')\n",
    "plt.plot(history.history['val_accuracy'], label='Validation Accuracy')\n",
    "plt.title('Training and Validation Accuracy')\n",
    "plt.xlabel('Epoch')\n",
    "plt.ylabel('Accuracy')\n",
    "plt.legend()\n",
    "plt.grid(True)\n",
    "\n",
    "# 손실 그래프\n",
    "plt.subplot(1, 2, 2)\n",
    "plt.plot(history.history['loss'], label='Training Loss')\n",
    "plt.plot(history.history['val_loss'], label='Validation Loss')\n",
    "plt.title('Training and Validation Loss')\n",
    "plt.xlabel('Epoch')\n",
    "plt.ylabel('Loss')\n",
    "plt.legend()\n",
    "plt.grid(True)\n",
    "\n",
    "plt.tight_layout()\n",
    "plt.show()"
   ]
  },
  {
   "cell_type": "code",
   "execution_count": null,
   "id": "4e1cbb33-18b7-436e-bdd0-4a65645f0b90",
   "metadata": {},
   "outputs": [],
   "source": []
  }
 ],
 "metadata": {
  "kernelspec": {
   "display_name": "Python [conda env:base] *",
   "language": "python",
   "name": "conda-base-py"
  },
  "language_info": {
   "codemirror_mode": {
    "name": "ipython",
    "version": 3
   },
   "file_extension": ".py",
   "mimetype": "text/x-python",
   "name": "python",
   "nbconvert_exporter": "python",
   "pygments_lexer": "ipython3",
   "version": "3.12.7"
  }
 },
 "nbformat": 4,
 "nbformat_minor": 5
}
